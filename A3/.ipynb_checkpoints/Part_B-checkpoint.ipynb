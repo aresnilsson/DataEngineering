{
 "cells": [
  {
   "cell_type": "code",
   "execution_count": 1,
   "id": "f09dac29-242a-4ce7-a81b-55dc079a12d9",
   "metadata": {},
   "outputs": [],
   "source": [
    "from pyspark.sql import SparkSession\n",
    "from pyspark.sql.functions import col, max, desc\n"
   ]
  },
  {
   "cell_type": "code",
   "execution_count": 2,
   "id": "cc2a06c2-d2b3-4ffe-8425-0c70fd261174",
   "metadata": {},
   "outputs": [
    {
     "name": "stderr",
     "output_type": "stream",
     "text": [
      "Setting default log level to \"WARN\".\n",
      "To adjust logging level use sc.setLogLevel(newLevel). For SparkR, use setLogLevel(newLevel).\n",
      "25/03/12 11:49:34 WARN NativeCodeLoader: Unable to load native-hadoop library for your platform... using builtin-java classes where applicable\n",
      "25/03/12 11:49:37 WARN StandaloneSchedulerBackend: Dynamic allocation enabled without spark.executor.cores explicitly set, you may get more executors allocated than expected. It's recommended to set spark.executor.cores explicitly. Please check SPARK-30299 for more details.\n"
     ]
    }
   ],
   "source": [
    "spark_session = (\n",
    "    SparkSession.builder\n",
    "    .master(\"spark://192.168.2.156:7077\")\n",
    "    .appName(\"Alexnader_partB\")\n",
    "    .config(\"spark.dynamicAllocation.enabled\", True)\n",
    "    .config(\"spark.dynamicAllocation.shuffleTracking.enabled\", True)\n",
    "    .config(\"spark.shuffle.service.enabled\", False)\n",
    "    .config(\"spark.dynamicAllocation.executorIdleTimeout\", \"30s\")\n",
    "    .config(\"spark.cores.max\", 2)\n",
    "    .getOrCreate()\n",
    ")"
   ]
  },
  {
   "cell_type": "code",
   "execution_count": 3,
   "id": "073aae90-0bb2-4ff3-a9d5-62a647971e66",
   "metadata": {},
   "outputs": [],
   "source": [
    "#!hdfs dfs -ls hdfs://192.168.2.156:9000/data\n"
   ]
  },
  {
   "cell_type": "code",
   "execution_count": 4,
   "id": "c02c6a02-e9c1-47c7-9efe-17d3b2b5e52e",
   "metadata": {},
   "outputs": [
    {
     "name": "stderr",
     "output_type": "stream",
     "text": [
      "                                                                                "
     ]
    }
   ],
   "source": [
    "citations_df = spark_session.read.csv(\n",
    "    \"hdfs://192.168.2.156:9000/data/los-angeles-parking-citations\",\n",
    "    header=True,\n",
    "    inferSchema=True\n",
    ")"
   ]
  },
  {
   "cell_type": "code",
   "execution_count": 5,
   "id": "a6c7b652-e9c7-4c3c-973d-7619b4eb1818",
   "metadata": {},
   "outputs": [
    {
     "name": "stdout",
     "output_type": "stream",
     "text": [
      "+-------------+--------------------+----------+--------+-----------+--------------+-----------------+----+----+----------+-----+------------------+-----+------+--------------+---------------------+-----------+---------+---------+------------------+-----------------+----------------------+\n",
      "|Ticket number|          Issue Date|Issue time|Meter Id|Marked Time|RP State Plate|Plate Expiry Date| VIN|Make|Body Style|Color|          Location|Route|Agency|Violation code|Violation Description|Fine amount| Latitude|Longitude|Agency Description|Color Description|Body Style Description|\n",
      "+-------------+--------------------+----------+--------+-----------+--------------+-----------------+----+----+----------+-----+------------------+-----+------+--------------+---------------------+-----------+---------+---------+------------------+-----------------+----------------------+\n",
      "|   1103341116|2015-12-21T00:00:...|      1251|    NULL|       NULL|            CA|           200304|NULL|HOND|        PA|   GY|   13147 WELBY WAY|01521|     1|        4000A1|   NO EVIDENCE OF REG|         50|    99999|    99999|              NULL|             NULL|                  NULL|\n",
      "|   1103700150|2015-12-21T00:00:...|      1435|    NULL|       NULL|            CA|           201512|NULL| GMC|        VN|   WH|     525 S MAIN ST| 1C51|     1|        4000A1|   NO EVIDENCE OF REG|         50|    99999|    99999|              NULL|             NULL|                  NULL|\n",
      "|   1104803000|2015-12-21T00:00:...|      2055|    NULL|       NULL|            CA|           201503|NULL|NISS|        PA|   BK|     200 WORLD WAY|  2R2|     2|          8939|           WHITE CURB|         58|6439997.9|1802686.4|              NULL|             NULL|                  NULL|\n",
      "|   1104820732|2015-12-26T00:00:...|      1515|    NULL|       NULL|            CA|             NULL|NULL|ACUR|        PA|   WH|     100 WORLD WAY| 2F11|     2|           000|               17104h|       NULL|6440041.1|1802686.2|              NULL|             NULL|                  NULL|\n",
      "|   1105461453|2015-09-15T00:00:...|       115|    NULL|       NULL|            CA|           200316|NULL|CHEV|        PA|   BK|GEORGIA ST/OLYMPIC|1FB70|     1|         8069A| NO STOPPING/STANDING|         93|    99999|    99999|              NULL|             NULL|                  NULL|\n",
      "+-------------+--------------------+----------+--------+-----------+--------------+-----------------+----+----+----------+-----+------------------+-----+------+--------------+---------------------+-----------+---------+---------+------------------+-----------------+----------------------+\n",
      "only showing top 5 rows\n",
      "\n"
     ]
    }
   ],
   "source": [
    "citations_df.show(5)\n"
   ]
  },
  {
   "cell_type": "code",
   "execution_count": 6,
   "id": "7d9c214c-1b95-4161-9cd6-e1923f55a6c5",
   "metadata": {},
   "outputs": [
    {
     "name": "stdout",
     "output_type": "stream",
     "text": [
      "root\n",
      " |-- Ticket number: string (nullable = true)\n",
      " |-- Issue Date: string (nullable = true)\n",
      " |-- Issue time: string (nullable = true)\n",
      " |-- Meter Id: string (nullable = true)\n",
      " |-- Marked Time: string (nullable = true)\n",
      " |-- RP State Plate: string (nullable = true)\n",
      " |-- Plate Expiry Date: string (nullable = true)\n",
      " |-- VIN: string (nullable = true)\n",
      " |-- Make: string (nullable = true)\n",
      " |-- Body Style: string (nullable = true)\n",
      " |-- Color: string (nullable = true)\n",
      " |-- Location: string (nullable = true)\n",
      " |-- Route: string (nullable = true)\n",
      " |-- Agency: string (nullable = true)\n",
      " |-- Violation code: string (nullable = true)\n",
      " |-- Violation Description: string (nullable = true)\n",
      " |-- Fine amount: string (nullable = true)\n",
      " |-- Latitude: string (nullable = true)\n",
      " |-- Longitude: string (nullable = true)\n",
      " |-- Agency Description: string (nullable = true)\n",
      " |-- Color Description: string (nullable = true)\n",
      " |-- Body Style Description: string (nullable = true)\n",
      "\n"
     ]
    }
   ],
   "source": [
    "citations_df.printSchema()"
   ]
  },
  {
   "cell_type": "code",
   "execution_count": 7,
   "id": "c453327e-c862-4621-900d-6833c45d170e",
   "metadata": {},
   "outputs": [
    {
     "name": "stderr",
     "output_type": "stream",
     "text": [
      "[Stage 3:=====================================================>   (15 + 1) / 16]"
     ]
    },
    {
     "name": "stdout",
     "output_type": "stream",
     "text": [
      "Number of rows in the dataset: 13079582\n"
     ]
    },
    {
     "name": "stderr",
     "output_type": "stream",
     "text": [
      "                                                                                "
     ]
    }
   ],
   "source": [
    "row_count = citations_df.count()\n",
    "print(\"Number of rows in the dataset:\", row_count)"
   ]
  },
  {
   "cell_type": "code",
   "execution_count": 8,
   "id": "d342b4a1-7ca0-4f28-b0f6-fb9770a722a8",
   "metadata": {},
   "outputs": [
    {
     "name": "stdout",
     "output_type": "stream",
     "text": [
      "Number of partitions: 16\n"
     ]
    }
   ],
   "source": [
    "partitions_count = citations_df.rdd.getNumPartitions()\n",
    "print(\"Number of partitions:\", partitions_count)"
   ]
  },
  {
   "cell_type": "code",
   "execution_count": 9,
   "id": "7909cacc-e957-4059-87df-68de02ce1b23",
   "metadata": {},
   "outputs": [],
   "source": [
    "citations_df = citations_df.drop(\"VIN\", \"Latitude\", \"Longitude\")"
   ]
  },
  {
   "cell_type": "code",
   "execution_count": 10,
   "id": "cea8df9b-0f32-45d1-9a77-f5ea562ab680",
   "metadata": {},
   "outputs": [],
   "source": [
    "from pyspark.sql.functions import col\n",
    "\n",
    "citations_df = citations_df.withColumn(\"Fine amount\", col(\"Fine amount\").cast(\"float\"))\n"
   ]
  },
  {
   "cell_type": "code",
   "execution_count": 11,
   "id": "fa16878a-28f8-4dd7-afb1-c05b8256dd19",
   "metadata": {},
   "outputs": [
    {
     "name": "stderr",
     "output_type": "stream",
     "text": [
      "                                                                                "
     ]
    },
    {
     "name": "stdout",
     "output_type": "stream",
     "text": [
      "Maximum fine amount is: 1100.0\n"
     ]
    }
   ],
   "source": [
    "from pyspark.sql.functions import max\n",
    "\n",
    "max_fine = citations_df.select(max(\"Fine amount\")).collect()[0][0]\n",
    "print(\"Maximum fine amount is:\", max_fine)\n"
   ]
  },
  {
   "cell_type": "code",
   "execution_count": 12,
   "id": "2848bd67-a89a-4a0a-b4b2-600578f1a753",
   "metadata": {},
   "outputs": [
    {
     "name": "stderr",
     "output_type": "stream",
     "text": [
      "[Stage 9:=====================================================>   (15 + 1) / 16]"
     ]
    },
    {
     "name": "stdout",
     "output_type": "stream",
     "text": [
      "Number of rows with this maximum fine (1100.0): 626\n"
     ]
    },
    {
     "name": "stderr",
     "output_type": "stream",
     "text": [
      "                                                                                "
     ]
    }
   ],
   "source": [
    "count_max_fine = citations_df.filter(col(\"Fine amount\") == max_fine).count()\n",
    "print(f\"Number of rows with this maximum fine ({max_fine}):\", count_max_fine)\n"
   ]
  },
  {
   "cell_type": "code",
   "execution_count": 13,
   "id": "d1b02af8-67da-4616-8a9a-aa1ee7d7bed9",
   "metadata": {},
   "outputs": [
    {
     "name": "stderr",
     "output_type": "stream",
     "text": [
      "[Stage 14:>                                                         (0 + 1) / 1]"
     ]
    },
    {
     "name": "stdout",
     "output_type": "stream",
     "text": [
      "+----+-------+\n",
      "|Make|count  |\n",
      "+----+-------+\n",
      "|TOYT|2150768|\n",
      "|HOND|1479996|\n",
      "|FORD|1116235|\n",
      "|NISS|945133 |\n",
      "|CHEV|892676 |\n",
      "|BMW |603092 |\n",
      "|MERZ|543298 |\n",
      "|VOLK|432030 |\n",
      "|HYUN|404917 |\n",
      "|DODG|391686 |\n",
      "|LEXS|368420 |\n",
      "|KIA |328155 |\n",
      "|JEEP|316300 |\n",
      "|AUDI|255395 |\n",
      "|MAZD|242344 |\n",
      "|OTHR|205546 |\n",
      "|GMC |184889 |\n",
      "|INFI|174315 |\n",
      "|CHRY|159948 |\n",
      "|SUBA|154640 |\n",
      "+----+-------+\n",
      "only showing top 20 rows\n",
      "\n"
     ]
    },
    {
     "name": "stderr",
     "output_type": "stream",
     "text": [
      "                                                                                "
     ]
    }
   ],
   "source": [
    "make_counts = citations_df.groupBy(\"Make\").count().orderBy(desc(\"count\"))\n",
    "make_counts.show(20, truncate=False)\n"
   ]
  },
  {
   "cell_type": "code",
   "execution_count": 14,
   "id": "5f7f2ecf-5725-4e72-90de-6002f8402901",
   "metadata": {},
   "outputs": [],
   "source": [
    "COLORS = {\n",
    "    'AL': 'Aluminum', 'AM': 'Amber', 'BG': 'Beige', 'BK': 'Black',\n",
    "    'BL': 'Blue', 'BN': 'Brown', 'BR': 'Brown', 'BZ': 'Bronze',\n",
    "    'CH': 'Charcoal', 'DK': 'Dark', 'GD': 'Gold', 'GO': 'Gold',\n",
    "    'GN': 'Green', 'GY': 'Gray', 'GT': 'Granite', 'IV': 'Ivory',\n",
    "    'LT': 'Light', 'OL': 'Olive', 'OR': 'Orange', 'MR': 'Maroon',\n",
    "    'PK': 'Pink', 'RD': 'Red', 'RE': 'Red', 'SI': 'Silver', 'SL': 'Silver',\n",
    "    'SM': 'Smoke', 'TN': 'Tan', 'VT': 'Violet', 'WT': 'White', 'WH': 'White',\n",
    "    'YL': 'Yellow', 'YE': 'Yellow', 'UN': 'Unknown'\n",
    "}"
   ]
  },
  {
   "cell_type": "code",
   "execution_count": 15,
   "id": "3b81f50a-0be1-464f-8051-4fbbb1cd1afe",
   "metadata": {},
   "outputs": [],
   "source": [
    "def expand_color(color_code):\n",
    "    if color_code is None:\n",
    "        return None\n",
    "    color_code = color_code.strip().upper()\n",
    "    return COLORS.get(color_code, color_code)"
   ]
  },
  {
   "cell_type": "code",
   "execution_count": 16,
   "id": "0f8edb4a-5af6-4cf4-b630-6041305b0b03",
   "metadata": {},
   "outputs": [],
   "source": [
    "from pyspark.sql.functions import udf\n",
    "from pyspark.sql.types import StringType\n",
    "\n",
    "expand_color_udf = udf(expand_color, StringType())\n"
   ]
  },
  {
   "cell_type": "code",
   "execution_count": 17,
   "id": "b87b7b0d-3956-4b3f-862b-314cf72e883f",
   "metadata": {},
   "outputs": [],
   "source": [
    "citations_df = citations_df.withColumn(\"color_long\", expand_color_udf(col(\"Color\")))\n"
   ]
  },
  {
   "cell_type": "code",
   "execution_count": 18,
   "id": "567d6b33-a87a-4e4f-a6b1-8e3e5d2fea97",
   "metadata": {},
   "outputs": [],
   "source": [
    "toyota_df = citations_df.filter(col(\"Make\") == \"TOYT\")\n"
   ]
  },
  {
   "cell_type": "code",
   "execution_count": 19,
   "id": "231e8735-1138-4b5d-ae99-9b5bef8e3c20",
   "metadata": {},
   "outputs": [
    {
     "name": "stderr",
     "output_type": "stream",
     "text": [
      "[Stage 15:====================================================>   (15 + 1) / 16]"
     ]
    },
    {
     "name": "stdout",
     "output_type": "stream",
     "text": [
      "+----------+------+\n",
      "|color_long|count |\n",
      "+----------+------+\n",
      "|Gray      |489697|\n",
      "|White     |434595|\n",
      "|Black     |353812|\n",
      "|Silver    |347894|\n",
      "|Blue      |180091|\n",
      "+----------+------+\n",
      "only showing top 5 rows\n",
      "\n"
     ]
    },
    {
     "name": "stderr",
     "output_type": "stream",
     "text": [
      "                                                                                "
     ]
    }
   ],
   "source": [
    "toyota_colors = toyota_df.groupBy(\"color_long\").count().orderBy(desc(\"count\"))\n",
    "toyota_colors.show(5, truncate=False)\n"
   ]
  },
  {
   "cell_type": "code",
   "execution_count": 20,
   "id": "f88a66b0-fa2e-4301-b16a-b74249ab8ecd",
   "metadata": {},
   "outputs": [
    {
     "name": "stderr",
     "output_type": "stream",
     "text": [
      "                                                                                "
     ]
    },
    {
     "name": "stdout",
     "output_type": "stream",
     "text": [
      "The most frequent Toyota color is: Gray\n"
     ]
    }
   ],
   "source": [
    "top_toyota_color = toyota_colors.collect()[0]\n",
    "print(\"The most frequent Toyota color is:\", top_toyota_color[\"color_long\"])\n"
   ]
  },
  {
   "cell_type": "code",
   "execution_count": 22,
   "id": "06d40025-e5f7-47a2-bd39-fcb9fa1d70e2",
   "metadata": {},
   "outputs": [],
   "source": [
    "spark_session.stop()\n"
   ]
  },
  {
   "cell_type": "code",
   "execution_count": null,
   "id": "ac7b8a53-7e4d-42dd-80b6-3158915e423f",
   "metadata": {},
   "outputs": [],
   "source": []
  }
 ],
 "metadata": {
  "kernelspec": {
   "display_name": "Python 3 (ipykernel)",
   "language": "python",
   "name": "python3"
  },
  "language_info": {
   "codemirror_mode": {
    "name": "ipython",
    "version": 3
   },
   "file_extension": ".py",
   "mimetype": "text/x-python",
   "name": "python",
   "nbconvert_exporter": "python",
   "pygments_lexer": "ipython3",
   "version": "3.10.12"
  }
 },
 "nbformat": 4,
 "nbformat_minor": 5
}
